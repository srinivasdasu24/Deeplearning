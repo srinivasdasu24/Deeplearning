{
 "cells": [
  {
   "cell_type": "markdown",
   "metadata": {
    "colab_type": "text",
    "id": "M27qF7CTrBqc"
   },
   "source": [
    "# PROJECT OVERVIEW \n"
   ]
  },
  {
   "cell_type": "markdown",
   "metadata": {
    "colab_type": "text",
    "id": "1kcs3Dv5pDd3"
   },
   "source": [
    "- In this case study, we want to classify images of traffic signs using deep Convolutional Neural Networks (CNNs).\n",
    "- The dataset consists of 43 different classes of images. \n",
    "- Classes are as listed below: \n",
    "  - 0 = Speed limit (20km/h) \n",
    "  - 1 = Speed limit (30km/h)\n",
    "  - 2 = Speed limit (50km/h) \n",
    "  - 3 = Speed limit (60km/h)\n",
    "  - 4 = Speed limit (70km/h) \n",
    "  - 5 = Speed limit (80km/h)\n",
    "  - 6 = End of speed limit (80km/h)\n",
    "  - 7 = Speed limit (100km/h)\n",
    "  - 8 = Speed limit (120km/h)\n",
    "  - 9 = No passing\n",
    "  - 10 = No passing for vehicles over 3.5 metric tons\n",
    "  - 11 = Right-of-way at the next intersection\n",
    "  - 12 = Priority road\n",
    "  - 13 = Yield\n",
    "  - 14 = Stop\n",
    "  - 15 = No vehicles\n",
    "  - 16 = Vehicles over 3.5 metric tons prohibited\n",
    "  - 17 = No entry\n",
    "  - 18 = General caution\n",
    "  - 19 = Dangerous curve to the left\n",
    "  - 20 = Dangerous curve to the right\n",
    "  - 21 = Double curve\n",
    "  - 22 = Bumpy road\n",
    "  - 23 = Slippery road\n",
    "  - 24 = Road narrows on the right\n",
    "  - 25 = Road work\n",
    "  - 26 = Traffic signals\n",
    "  - 27 = Pedestrians\n",
    "  - 28 = Children crossing \n",
    "  - 29 = Bicycles crossing\n",
    "  - 30 = Beware of ice/snow\n",
    "  - 31 = Wild animals crossing\n",
    "  - 32 = End of all speed and passing limits\n",
    "  - 33 = Turn right ahead\n",
    "  - 34 = Turn left ahead\n",
    "  - 35 = Ahead only\n",
    "  - 36 = Go straight or right\n",
    "  - 37 = Go straight or left\n",
    "  - 38 = Keep right\n",
    "  - 39 = Keep left\n",
    "  - 40 = Roundabout mandatory\n",
    "  - 41 = End of no passing\n",
    "  - 42 = End of no passing by vehicles over 3.5 metric tons\n",
    "\n",
    "- Citation\n",
    "J. Stallkamp, M. Schlipsing, J. Salmen, and C. Igel. The German Traffic Sign Recognition Benchmark: A multi-class classification competition. In Proceedings of the IEEE International Joint Conference on Neural Networks, pages 1453–1460. 2011. \n",
    "@inproceedings{Stallkamp-IJCNN-2011, author = {Johannes Stallkamp and Marc Schlipsing and Jan Salmen and Christian Igel}, booktitle = {IEEE International Joint Conference on Neural Networks}, title = {The {G}erman {T}raffic {S}ign {R}ecognition {B}enchmark: A multi-class classification competition}, year = {2011}, pages = {1453--1460} }"
   ]
  },
  {
   "cell_type": "markdown",
   "metadata": {
    "colab_type": "text",
    "id": "zKmFmyaGunc7"
   },
   "source": [
    "# STEP #1: IMPORT LIBRARIES/DATASETS"
   ]
  },
  {
   "cell_type": "code",
   "execution_count": null,
   "metadata": {
    "colab": {},
    "colab_type": "code",
    "id": "vxW1hFtAirVF"
   },
   "outputs": [],
   "source": [
    "import matplotlib.pyplot as plt\n",
    "import numpy as np\n",
    "import tensorflow as tf\n",
    "import pandas as pd\n",
    "import seaborn as sns\n",
    "import pickle # python pickle is used to serialize/deserialize a python object structure\n",
    "import random"
   ]
  },
  {
   "cell_type": "code",
   "execution_count": null,
   "metadata": {},
   "outputs": [],
   "source": [
    "with open(\"./traffic-signs-data/train.p\", mode='rb') as training_data:\n",
    "    train = pickle.load(training_data)\n",
    "with open(\"./traffic-signs-data/valid.p\", mode='rb') as validation_data:\n",
    "    valid = pickle.load(validation_data)\n",
    "with open(\"./traffic-signs-data/test.p\", mode='rb') as testing_data:\n",
    "    test = pickle.load(testing_data)"
   ]
  },
  {
   "cell_type": "code",
   "execution_count": null,
   "metadata": {
    "colab": {},
    "colab_type": "code",
    "id": "-uEFeTF3rPl0"
   },
   "outputs": [],
   "source": [
    "# Assign the data to X_train, X_test, X_validation\n"
   ]
  },
  {
   "cell_type": "code",
   "execution_count": null,
   "metadata": {
    "colab": {
     "base_uri": "https://localhost:8080/",
     "height": 34
    },
    "colab_type": "code",
    "id": "LTLHnPTGrRkc",
    "outputId": "dc015667-8fa4-4954-e48a-c014bc9c7dbf"
   },
   "outputs": [],
   "source": [
    "# obtain the shape of training data"
   ]
  },
  {
   "cell_type": "code",
   "execution_count": null,
   "metadata": {
    "colab": {
     "base_uri": "https://localhost:8080/",
     "height": 34
    },
    "colab_type": "code",
    "id": "1jLck0QwrSNz",
    "outputId": "cb842430-4363-4b14-fb7a-6ded2b8b13af"
   },
   "outputs": [],
   "source": [
    "# Obtain the shape of the testing data"
   ]
  },
  {
   "cell_type": "code",
   "execution_count": null,
   "metadata": {},
   "outputs": [],
   "source": [
    "# obtain the shape of the validation data"
   ]
  },
  {
   "cell_type": "markdown",
   "metadata": {
    "colab_type": "text",
    "id": "LlszUhNNyrl_"
   },
   "source": [
    "# STEP #2: IMAGES VISUALIZATION"
   ]
  },
  {
   "cell_type": "code",
   "execution_count": null,
   "metadata": {
    "colab": {
     "base_uri": "https://localhost:8080/",
     "height": 283
    },
    "colab_type": "code",
    "id": "ronVvCdJsYc5",
    "outputId": "746da8b7-29af-4bc6-d999-96c5f7381f60"
   },
   "outputs": [],
   "source": [
    "# Generate a random number and visualize an image"
   ]
  },
  {
   "cell_type": "code",
   "execution_count": null,
   "metadata": {
    "colab": {
     "base_uri": "https://localhost:8080/",
     "height": 592
    },
    "colab_type": "code",
    "id": "ZUUvpXsmlwbb",
    "outputId": "657d470e-5253-4ce6-9b81-fe25f61e0287"
   },
   "outputs": [],
   "source": [
    "# Let's view more images in a grid format\n",
    "# Define the dimensions of the plot grid \n",
    "W_grid = 5\n",
    "L_grid = 5\n",
    "\n",
    "# fig, axes = plt.subplots(L_grid, W_grid)\n",
    "# subplot return the figure object and axes object\n",
    "# we can use the axes object to plot specific figures at various locations\n",
    "\n",
    "        "
   ]
  },
  {
   "cell_type": "markdown",
   "metadata": {
    "colab_type": "text",
    "id": "Y0GmpAjG3GiH"
   },
   "source": [
    "# STEP #3: CONVERT IMAGES TO GRAYSCALE AND PERFORM NORMALIZATION"
   ]
  },
  {
   "cell_type": "code",
   "execution_count": null,
   "metadata": {
    "colab": {},
    "colab_type": "code",
    "id": "YI1QcjORsq2G"
   },
   "outputs": [],
   "source": [
    "# Shuffle Data\n"
   ]
  },
  {
   "cell_type": "code",
   "execution_count": null,
   "metadata": {
    "colab": {},
    "colab_type": "code",
    "id": "u2-GkZo0riel"
   },
   "outputs": [],
   "source": [
    "# Convert from color-scaled to gray-scaled images\n"
   ]
  },
  {
   "cell_type": "code",
   "execution_count": null,
   "metadata": {
    "colab": {
     "base_uri": "https://localhost:8080/",
     "height": 34
    },
    "colab_type": "code",
    "id": "a2thgGKwricb",
    "outputId": "2accba67-d75c-4d32-8faa-e8f26637eff1"
   },
   "outputs": [],
   "source": [
    "# Check out the dimensions\n"
   ]
  },
  {
   "cell_type": "code",
   "execution_count": null,
   "metadata": {
    "colab": {
     "base_uri": "https://localhost:8080/",
     "height": 34
    },
    "colab_type": "code",
    "id": "4yZu7n28riaV",
    "outputId": "ce21e8d0-4991-4021-fe47-4ec68447a359"
   },
   "outputs": [],
   "source": []
  },
  {
   "cell_type": "code",
   "execution_count": null,
   "metadata": {
    "colab": {
     "base_uri": "https://localhost:8080/",
     "height": 34
    },
    "colab_type": "code",
    "id": "Nar_imirriYX",
    "outputId": "687d6d85-9fb9-4bdb-a41c-e75aa86e09cc"
   },
   "outputs": [],
   "source": []
  },
  {
   "cell_type": "code",
   "execution_count": null,
   "metadata": {
    "colab": {},
    "colab_type": "code",
    "id": "-xRVL8FpriWI"
   },
   "outputs": [],
   "source": [
    "# Normalize the data\n"
   ]
  },
  {
   "cell_type": "code",
   "execution_count": null,
   "metadata": {
    "colab": {
     "base_uri": "https://localhost:8080/",
     "height": 781
    },
    "colab_type": "code",
    "id": "__hg6A5yrq2c",
    "outputId": "e4e64e6b-f154-4e13-8398-875305280206"
   },
   "outputs": [],
   "source": [
    "# Visualize the original, gray-scaled, and gray-scaled normalized image\n"
   ]
  },
  {
   "cell_type": "markdown",
   "metadata": {
    "colab_type": "text",
    "id": "53qDZFRn3-S1"
   },
   "source": [
    "# STEP#4: BUILD DEEP LEARNING MODEL"
   ]
  },
  {
   "cell_type": "code",
   "execution_count": null,
   "metadata": {
    "colab": {
     "base_uri": "https://localhost:8080/",
     "height": 420
    },
    "colab_type": "code",
    "id": "kFsd6rYsr9uW",
    "outputId": "e7e0fae3-2457-423a-caaa-fc162f34add2"
   },
   "outputs": [],
   "source": [
    "\n",
    "from tensorflow.keras import datasets, layers, models\n",
    "\n"
   ]
  },
  {
   "cell_type": "markdown",
   "metadata": {
    "colab_type": "text",
    "id": "wr9IYeR6acWf"
   },
   "source": [
    "# STEP#5: COMPILE AND TRAIN DEEP LEARNING MODEL"
   ]
  },
  {
   "cell_type": "code",
   "execution_count": null,
   "metadata": {
    "colab": {},
    "colab_type": "code",
    "id": "XDTDxCwgsBI1"
   },
   "outputs": [],
   "source": [
    "# Compile the model\n"
   ]
  },
  {
   "cell_type": "code",
   "execution_count": null,
   "metadata": {
    "colab": {
     "base_uri": "https://localhost:8080/",
     "height": 1000
    },
    "colab_type": "code",
    "id": "g3IyLXbdsCyj",
    "outputId": "c7806bfe-d0e5-4e11-cf2c-f1e59548531e"
   },
   "outputs": [],
   "source": [
    "# Fit the training data to the model\n"
   ]
  },
  {
   "cell_type": "markdown",
   "metadata": {
    "colab_type": "text",
    "id": "-wRQqOeB5Zh5"
   },
   "source": [
    "# STEP#6: ASSESS TRAINED MODEL PERFORMANCE "
   ]
  },
  {
   "cell_type": "code",
   "execution_count": null,
   "metadata": {
    "colab": {
     "base_uri": "https://localhost:8080/",
     "height": 50
    },
    "colab_type": "code",
    "id": "_RpB2PAd9SE9",
    "outputId": "645eec59-d3e8-4e26-e806-c932f1d19abf"
   },
   "outputs": [],
   "source": [
    "score = CNN.evaluate(X_test_gray_norm, y_test)\n",
    "print('Test Accuracy: {}'.format(score[1]))"
   ]
  },
  {
   "cell_type": "code",
   "execution_count": null,
   "metadata": {
    "colab": {
     "base_uri": "https://localhost:8080/",
     "height": 34
    },
    "colab_type": "code",
    "id": "FM1WY_Q_sMkL",
    "outputId": "7cc302c0-c7e9-4d05-c39c-8637f25a91e7"
   },
   "outputs": [],
   "source": [
    "history.history.keys()"
   ]
  },
  {
   "cell_type": "code",
   "execution_count": null,
   "metadata": {
    "colab": {},
    "colab_type": "code",
    "id": "xBBJ9WlpsMiH"
   },
   "outputs": [],
   "source": [
    "accuracy = history.history['accuracy']\n",
    "val_accuracy = history.history['val_accuracy']\n",
    "loss = history.history['loss']\n",
    "val_loss = history.history['val_loss']"
   ]
  },
  {
   "cell_type": "code",
   "execution_count": null,
   "metadata": {
    "colab": {
     "base_uri": "https://localhost:8080/",
     "height": 298
    },
    "colab_type": "code",
    "id": "c8oHEt0OsMf2",
    "outputId": "0e97f79f-9c46-42ee-f8d4-a0c10902ac39"
   },
   "outputs": [],
   "source": [
    "epochs = range(len(accuracy))\n",
    "\n",
    "# Plot the accuracy for both the training and validation dataset"
   ]
  },
  {
   "cell_type": "code",
   "execution_count": null,
   "metadata": {
    "colab": {
     "base_uri": "https://localhost:8080/",
     "height": 298
    },
    "colab_type": "code",
    "id": "liiGj4HdsMa3",
    "outputId": "5b8c25a2-9f3f-40b8-9626-d0eb1035b5e0"
   },
   "outputs": [],
   "source": [
    "# Plot the loss for both training and validation datasets"
   ]
  },
  {
   "cell_type": "code",
   "execution_count": null,
   "metadata": {
    "colab": {},
    "colab_type": "code",
    "id": "RKZxo6khsMYv"
   },
   "outputs": [],
   "source": [
    "# Make predictions and plot the confusion matrix"
   ]
  },
  {
   "cell_type": "code",
   "execution_count": null,
   "metadata": {
    "colab": {
     "base_uri": "https://localhost:8080/",
     "height": 1000
    },
    "colab_type": "code",
    "id": "3knUnry5sMWd",
    "outputId": "103a614b-dee1-49a8-903c-f5bf320e3e8e"
   },
   "outputs": [],
   "source": []
  },
  {
   "cell_type": "code",
   "execution_count": null,
   "metadata": {
    "colab": {
     "base_uri": "https://localhost:8080/",
     "height": 676
    },
    "colab_type": "code",
    "id": "3WLTbXkysVdv",
    "outputId": "f40338bb-1fe6-4934-cbe3-2a2908f382f3"
   },
   "outputs": [],
   "source": [
    "# Create a grid showing the model predictions vs. ground truth\n",
    "L = 5\n",
    "W = 5\n",
    "\n",
    "fig, axes = plt.subplots(L, W, figsize = (12, 12))\n",
    "axes = axes.ravel()\n"
   ]
  },
  {
   "cell_type": "markdown",
   "metadata": {
    "colab_type": "text",
    "id": "rW4v5N7zzwMZ"
   },
   "source": [
    "# CONGRATULATIONS ON FINISHING THE PROJECT!"
   ]
  }
 ],
 "metadata": {
  "accelerator": "GPU",
  "celltoolbar": "Raw Cell Format",
  "colab": {
   "collapsed_sections": [],
   "name": "Deep Learning for Traffic Sign Classification",
   "provenance": [],
   "toc_visible": true
  },
  "kernelspec": {
   "display_name": "Python 3",
   "language": "python",
   "name": "python3"
  },
  "language_info": {
   "codemirror_mode": {
    "name": "ipython",
    "version": 3
   },
   "file_extension": ".py",
   "mimetype": "text/x-python",
   "name": "python",
   "nbconvert_exporter": "python",
   "pygments_lexer": "ipython3",
   "version": "3.7.4"
  }
 },
 "nbformat": 4,
 "nbformat_minor": 1
}
